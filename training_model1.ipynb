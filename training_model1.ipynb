{
  "nbformat": 4,
  "nbformat_minor": 0,
  "metadata": {
    "colab": {
      "provenance": [],
      "gpuType": "T4",
      "mount_file_id": "1rcbZ0dGLOX1u1rYTJ0J6H_Rvw1Pcx1BY",
      "authorship_tag": "ABX9TyOTQZolnEoP3kLRxXJipT24",
      "include_colab_link": true
    },
    "kernelspec": {
      "name": "python3",
      "display_name": "Python 3"
    },
    "language_info": {
      "name": "python"
    },
    "accelerator": "GPU"
  },
  "cells": [
    {
      "cell_type": "markdown",
      "metadata": {
        "id": "view-in-github",
        "colab_type": "text"
      },
      "source": [
        "<a href=\"https://colab.research.google.com/github/Camelliadole/Project-II/blob/main/training_model1.ipynb\" target=\"_parent\"><img src=\"https://colab.research.google.com/assets/colab-badge.svg\" alt=\"Open In Colab\"/></a>"
      ]
    },
    {
      "cell_type": "code",
      "execution_count": null,
      "metadata": {
        "colab": {
          "base_uri": "https://localhost:8080/"
        },
        "id": "GwAnFV6koFKk",
        "outputId": "107828e8-1355-448b-e2e9-ed29489aa691"
      },
      "outputs": [
        {
          "output_type": "stream",
          "name": "stdout",
          "text": [
            "Collecting ultralytics\n",
            "  Downloading ultralytics-8.0.202-py3-none-any.whl (644 kB)\n",
            "\u001b[2K     \u001b[90m━━━━━━━━━━━━━━━━━━━━━━━━━━━━━━━━━━━━━━━━\u001b[0m \u001b[32m644.8/644.8 kB\u001b[0m \u001b[31m6.7 MB/s\u001b[0m eta \u001b[36m0:00:00\u001b[0m\n",
            "\u001b[?25hRequirement already satisfied: matplotlib>=3.3.0 in /usr/local/lib/python3.10/dist-packages (from ultralytics) (3.7.1)\n",
            "Requirement already satisfied: numpy>=1.22.2 in /usr/local/lib/python3.10/dist-packages (from ultralytics) (1.23.5)\n",
            "Requirement already satisfied: opencv-python>=4.6.0 in /usr/local/lib/python3.10/dist-packages (from ultralytics) (4.8.0.76)\n",
            "Requirement already satisfied: pillow>=7.1.2 in /usr/local/lib/python3.10/dist-packages (from ultralytics) (9.4.0)\n",
            "Requirement already satisfied: pyyaml>=5.3.1 in /usr/local/lib/python3.10/dist-packages (from ultralytics) (6.0.1)\n",
            "Requirement already satisfied: requests>=2.23.0 in /usr/local/lib/python3.10/dist-packages (from ultralytics) (2.31.0)\n",
            "Requirement already satisfied: scipy>=1.4.1 in /usr/local/lib/python3.10/dist-packages (from ultralytics) (1.11.3)\n",
            "Requirement already satisfied: torch>=1.8.0 in /usr/local/lib/python3.10/dist-packages (from ultralytics) (2.1.0+cu118)\n",
            "Requirement already satisfied: torchvision>=0.9.0 in /usr/local/lib/python3.10/dist-packages (from ultralytics) (0.16.0+cu118)\n",
            "Requirement already satisfied: tqdm>=4.64.0 in /usr/local/lib/python3.10/dist-packages (from ultralytics) (4.66.1)\n",
            "Requirement already satisfied: pandas>=1.1.4 in /usr/local/lib/python3.10/dist-packages (from ultralytics) (1.5.3)\n",
            "Requirement already satisfied: seaborn>=0.11.0 in /usr/local/lib/python3.10/dist-packages (from ultralytics) (0.12.2)\n",
            "Requirement already satisfied: psutil in /usr/local/lib/python3.10/dist-packages (from ultralytics) (5.9.5)\n",
            "Requirement already satisfied: py-cpuinfo in /usr/local/lib/python3.10/dist-packages (from ultralytics) (9.0.0)\n",
            "Collecting thop>=0.1.1 (from ultralytics)\n",
            "  Downloading thop-0.1.1.post2209072238-py3-none-any.whl (15 kB)\n",
            "Requirement already satisfied: contourpy>=1.0.1 in /usr/local/lib/python3.10/dist-packages (from matplotlib>=3.3.0->ultralytics) (1.1.1)\n",
            "Requirement already satisfied: cycler>=0.10 in /usr/local/lib/python3.10/dist-packages (from matplotlib>=3.3.0->ultralytics) (0.12.1)\n",
            "Requirement already satisfied: fonttools>=4.22.0 in /usr/local/lib/python3.10/dist-packages (from matplotlib>=3.3.0->ultralytics) (4.43.1)\n",
            "Requirement already satisfied: kiwisolver>=1.0.1 in /usr/local/lib/python3.10/dist-packages (from matplotlib>=3.3.0->ultralytics) (1.4.5)\n",
            "Requirement already satisfied: packaging>=20.0 in /usr/local/lib/python3.10/dist-packages (from matplotlib>=3.3.0->ultralytics) (23.2)\n",
            "Requirement already satisfied: pyparsing>=2.3.1 in /usr/local/lib/python3.10/dist-packages (from matplotlib>=3.3.0->ultralytics) (3.1.1)\n",
            "Requirement already satisfied: python-dateutil>=2.7 in /usr/local/lib/python3.10/dist-packages (from matplotlib>=3.3.0->ultralytics) (2.8.2)\n",
            "Requirement already satisfied: pytz>=2020.1 in /usr/local/lib/python3.10/dist-packages (from pandas>=1.1.4->ultralytics) (2023.3.post1)\n",
            "Requirement already satisfied: charset-normalizer<4,>=2 in /usr/local/lib/python3.10/dist-packages (from requests>=2.23.0->ultralytics) (3.3.1)\n",
            "Requirement already satisfied: idna<4,>=2.5 in /usr/local/lib/python3.10/dist-packages (from requests>=2.23.0->ultralytics) (3.4)\n",
            "Requirement already satisfied: urllib3<3,>=1.21.1 in /usr/local/lib/python3.10/dist-packages (from requests>=2.23.0->ultralytics) (2.0.7)\n",
            "Requirement already satisfied: certifi>=2017.4.17 in /usr/local/lib/python3.10/dist-packages (from requests>=2.23.0->ultralytics) (2023.7.22)\n",
            "Requirement already satisfied: filelock in /usr/local/lib/python3.10/dist-packages (from torch>=1.8.0->ultralytics) (3.12.4)\n",
            "Requirement already satisfied: typing-extensions in /usr/local/lib/python3.10/dist-packages (from torch>=1.8.0->ultralytics) (4.5.0)\n",
            "Requirement already satisfied: sympy in /usr/local/lib/python3.10/dist-packages (from torch>=1.8.0->ultralytics) (1.12)\n",
            "Requirement already satisfied: networkx in /usr/local/lib/python3.10/dist-packages (from torch>=1.8.0->ultralytics) (3.2)\n",
            "Requirement already satisfied: jinja2 in /usr/local/lib/python3.10/dist-packages (from torch>=1.8.0->ultralytics) (3.1.2)\n",
            "Requirement already satisfied: fsspec in /usr/local/lib/python3.10/dist-packages (from torch>=1.8.0->ultralytics) (2023.6.0)\n",
            "Requirement already satisfied: triton==2.1.0 in /usr/local/lib/python3.10/dist-packages (from torch>=1.8.0->ultralytics) (2.1.0)\n",
            "Requirement already satisfied: six>=1.5 in /usr/local/lib/python3.10/dist-packages (from python-dateutil>=2.7->matplotlib>=3.3.0->ultralytics) (1.16.0)\n",
            "Requirement already satisfied: MarkupSafe>=2.0 in /usr/local/lib/python3.10/dist-packages (from jinja2->torch>=1.8.0->ultralytics) (2.1.3)\n",
            "Requirement already satisfied: mpmath>=0.19 in /usr/local/lib/python3.10/dist-packages (from sympy->torch>=1.8.0->ultralytics) (1.3.0)\n",
            "Installing collected packages: thop, ultralytics\n",
            "Successfully installed thop-0.1.1.post2209072238 ultralytics-8.0.202\n"
          ]
        }
      ],
      "source": [
        "\n",
        "#download all library we need\n",
        "!pip install ultralytics\n"
      ]
    },
    {
      "cell_type": "code",
      "source": [
        "import os\n",
        "import shutil\n",
        "import random\n",
        "\n",
        "!pip install tqdm --upgrade\n",
        "from tqdm.notebook import tqdm"
      ],
      "metadata": {
        "colab": {
          "base_uri": "https://localhost:8080/"
        },
        "id": "TGJxBqJJoJ3U",
        "outputId": "08651936-d122-4415-87ee-60b171d106b9"
      },
      "execution_count": null,
      "outputs": [
        {
          "output_type": "stream",
          "name": "stdout",
          "text": [
            "Requirement already satisfied: tqdm in /usr/local/lib/python3.10/dist-packages (4.66.1)\n"
          ]
        }
      ]
    },
    {
      "cell_type": "code",
      "source": [
        "from google.colab import drive\n",
        "drive.mount('/content/drive')"
      ],
      "metadata": {
        "colab": {
          "base_uri": "https://localhost:8080/"
        },
        "id": "8T9g99ivoJ5-",
        "outputId": "058c252e-ffbb-488c-ffee-09fa41c71091"
      },
      "execution_count": null,
      "outputs": [
        {
          "output_type": "stream",
          "name": "stdout",
          "text": [
            "Drive already mounted at /content/drive; to attempt to forcibly remount, call drive.mount(\"/content/drive\", force_remount=True).\n"
          ]
        }
      ]
    },
    {
      "cell_type": "code",
      "source": [
        "train_path_img = '/content/drive/MyDrive/data_cay/images/train'\n",
        "train_path_label = '/content/drive/MyDrive/data_cay/labels/train'\n",
        "val_path_img = '/content/drive/MyDrive/data_cay/images/val'\n",
        "val_path_label = '/content/drive/MyDrive/data_cay/labels/val'\n",
        "test_path = '/content/drive/MyDrive/data_cay/images/test'"
      ],
      "metadata": {
        "id": "TZq7ifb5oJ8T"
      },
      "execution_count": null,
      "outputs": []
    },
    {
      "cell_type": "code",
      "source": [
        "import ultralytics\n",
        "ultralytics.checks()\n",
        "#return the lastest model"
      ],
      "metadata": {
        "colab": {
          "base_uri": "https://localhost:8080/"
        },
        "id": "vY46Y6gJoJ-3",
        "outputId": "c6259a06-b2b7-4079-eb55-a27abd2bcf4f"
      },
      "execution_count": null,
      "outputs": [
        {
          "output_type": "stream",
          "name": "stderr",
          "text": [
            "Ultralytics YOLOv8.0.202 🚀 Python-3.10.12 torch-2.1.0+cu118 CUDA:0 (Tesla T4, 15102MiB)\n",
            "Setup complete ✅ (2 CPUs, 12.7 GB RAM, 27.1/78.2 GB disk)\n"
          ]
        }
      ]
    },
    {
      "cell_type": "code",
      "source": [
        "!yolo task=detect mode=train model=yolov8s.pt data=/content/drive/MyDrive/data_cay/dataset.yaml epochs=20 imgsz=640 batch=8 project=/content/drive/MyDrive/data_cay/training_results name=rice_disease"
      ],
      "metadata": {
        "colab": {
          "base_uri": "https://localhost:8080/"
        },
        "id": "togHK8YloKBa",
        "outputId": "15cc1931-3179-4092-e6dc-dd2628f5979a"
      },
      "execution_count": null,
      "outputs": [
        {
          "output_type": "stream",
          "name": "stdout",
          "text": [
            "Ultralytics YOLOv8.0.202 🚀 Python-3.10.12 torch-2.1.0+cu118 CUDA:0 (Tesla T4, 15102MiB)\n",
            "\u001b[34m\u001b[1mengine/trainer: \u001b[0mtask=detect, mode=train, model=yolov8s.pt, data=/content/drive/MyDrive/data_cay/dataset.yaml, epochs=20, patience=50, batch=8, imgsz=640, save=True, save_period=-1, cache=False, device=None, workers=8, project=/content/drive/MyDrive/data_cay/training_results, name=rice_disease2, exist_ok=False, pretrained=True, optimizer=auto, verbose=True, seed=0, deterministic=True, single_cls=False, rect=False, cos_lr=False, close_mosaic=10, resume=False, amp=True, fraction=1.0, profile=False, freeze=None, overlap_mask=True, mask_ratio=4, dropout=0.0, val=True, split=val, save_json=False, save_hybrid=False, conf=None, iou=0.7, max_det=300, half=False, dnn=False, plots=True, source=None, show=False, save_txt=False, save_conf=False, save_crop=False, show_labels=True, show_conf=True, vid_stride=1, stream_buffer=False, line_width=None, visualize=False, augment=False, agnostic_nms=False, classes=None, retina_masks=False, boxes=True, format=torchscript, keras=False, optimize=False, int8=False, dynamic=False, simplify=False, opset=None, workspace=4, nms=False, lr0=0.01, lrf=0.01, momentum=0.937, weight_decay=0.0005, warmup_epochs=3.0, warmup_momentum=0.8, warmup_bias_lr=0.1, box=7.5, cls=0.5, dfl=1.5, pose=12.0, kobj=1.0, label_smoothing=0.0, nbs=64, hsv_h=0.015, hsv_s=0.7, hsv_v=0.4, degrees=0.0, translate=0.1, scale=0.5, shear=0.0, perspective=0.0, flipud=0.0, fliplr=0.5, mosaic=1.0, mixup=0.0, copy_paste=0.0, cfg=None, tracker=botsort.yaml, save_dir=/content/drive/MyDrive/data_cay/training_results/rice_disease2\n",
            "Downloading https://ultralytics.com/assets/Arial.ttf to '/root/.config/Ultralytics/Arial.ttf'...\n",
            "100% 755k/755k [00:00<00:00, 19.3MB/s]\n",
            "2023-10-29 10:14:54.351399: E tensorflow/compiler/xla/stream_executor/cuda/cuda_dnn.cc:9342] Unable to register cuDNN factory: Attempting to register factory for plugin cuDNN when one has already been registered\n",
            "2023-10-29 10:14:54.351453: E tensorflow/compiler/xla/stream_executor/cuda/cuda_fft.cc:609] Unable to register cuFFT factory: Attempting to register factory for plugin cuFFT when one has already been registered\n",
            "2023-10-29 10:14:54.351507: E tensorflow/compiler/xla/stream_executor/cuda/cuda_blas.cc:1518] Unable to register cuBLAS factory: Attempting to register factory for plugin cuBLAS when one has already been registered\n",
            "Overriding model.yaml nc=80 with nc=3\n",
            "\n",
            "                   from  n    params  module                                       arguments                     \n",
            "  0                  -1  1       928  ultralytics.nn.modules.conv.Conv             [3, 32, 3, 2]                 \n",
            "  1                  -1  1     18560  ultralytics.nn.modules.conv.Conv             [32, 64, 3, 2]                \n",
            "  2                  -1  1     29056  ultralytics.nn.modules.block.C2f             [64, 64, 1, True]             \n",
            "  3                  -1  1     73984  ultralytics.nn.modules.conv.Conv             [64, 128, 3, 2]               \n",
            "  4                  -1  2    197632  ultralytics.nn.modules.block.C2f             [128, 128, 2, True]           \n",
            "  5                  -1  1    295424  ultralytics.nn.modules.conv.Conv             [128, 256, 3, 2]              \n",
            "  6                  -1  2    788480  ultralytics.nn.modules.block.C2f             [256, 256, 2, True]           \n",
            "  7                  -1  1   1180672  ultralytics.nn.modules.conv.Conv             [256, 512, 3, 2]              \n",
            "  8                  -1  1   1838080  ultralytics.nn.modules.block.C2f             [512, 512, 1, True]           \n",
            "  9                  -1  1    656896  ultralytics.nn.modules.block.SPPF            [512, 512, 5]                 \n",
            " 10                  -1  1         0  torch.nn.modules.upsampling.Upsample         [None, 2, 'nearest']          \n",
            " 11             [-1, 6]  1         0  ultralytics.nn.modules.conv.Concat           [1]                           \n",
            " 12                  -1  1    591360  ultralytics.nn.modules.block.C2f             [768, 256, 1]                 \n",
            " 13                  -1  1         0  torch.nn.modules.upsampling.Upsample         [None, 2, 'nearest']          \n",
            " 14             [-1, 4]  1         0  ultralytics.nn.modules.conv.Concat           [1]                           \n",
            " 15                  -1  1    148224  ultralytics.nn.modules.block.C2f             [384, 128, 1]                 \n",
            " 16                  -1  1    147712  ultralytics.nn.modules.conv.Conv             [128, 128, 3, 2]              \n",
            " 17            [-1, 12]  1         0  ultralytics.nn.modules.conv.Concat           [1]                           \n",
            " 18                  -1  1    493056  ultralytics.nn.modules.block.C2f             [384, 256, 1]                 \n",
            " 19                  -1  1    590336  ultralytics.nn.modules.conv.Conv             [256, 256, 3, 2]              \n",
            " 20             [-1, 9]  1         0  ultralytics.nn.modules.conv.Concat           [1]                           \n",
            " 21                  -1  1   1969152  ultralytics.nn.modules.block.C2f             [768, 512, 1]                 \n",
            " 22        [15, 18, 21]  1   2117209  ultralytics.nn.modules.head.Detect           [3, [128, 256, 512]]          \n",
            "Model summary: 225 layers, 11136761 parameters, 11136745 gradients, 28.7 GFLOPs\n",
            "\n",
            "Transferred 349/355 items from pretrained weights\n",
            "\u001b[34m\u001b[1mTensorBoard: \u001b[0mStart with 'tensorboard --logdir /content/drive/MyDrive/data_cay/training_results/rice_disease2', view at http://localhost:6006/\n",
            "Freezing layer 'model.22.dfl.conv.weight'\n",
            "\u001b[34m\u001b[1mAMP: \u001b[0mrunning Automatic Mixed Precision (AMP) checks with YOLOv8n...\n",
            "Downloading https://github.com/ultralytics/assets/releases/download/v0.0.0/yolov8n.pt to 'yolov8n.pt'...\n",
            "100% 6.23M/6.23M [00:00<00:00, 110MB/s]\n",
            "\u001b[34m\u001b[1mAMP: \u001b[0mchecks passed ✅\n",
            "\u001b[34m\u001b[1mtrain: \u001b[0mScanning /content/drive/MyDrive/data_cay/labels/train... 2608 images, 0 backgrounds, 0 corrupt: 100% 2608/2608 [18:25<00:00,  2.36it/s]\n",
            "\u001b[34m\u001b[1mtrain: \u001b[0mNew cache created: /content/drive/MyDrive/data_cay/labels/train.cache\n",
            "\u001b[34m\u001b[1malbumentations: \u001b[0mBlur(p=0.01, blur_limit=(3, 7)), MedianBlur(p=0.01, blur_limit=(3, 7)), ToGray(p=0.01), CLAHE(p=0.01, clip_limit=(1, 4.0), tile_grid_size=(8, 8))\n",
            "\u001b[34m\u001b[1mval: \u001b[0mScanning /content/drive/MyDrive/data_cay/labels/val... 286 images, 40 backgrounds, 0 corrupt: 100% 326/326 [02:04<00:00,  2.62it/s]\n",
            "\u001b[34m\u001b[1mval: \u001b[0mNew cache created: /content/drive/MyDrive/data_cay/labels/val.cache\n",
            "Plotting labels to /content/drive/MyDrive/data_cay/training_results/rice_disease2/labels.jpg... \n",
            "\u001b[34m\u001b[1moptimizer:\u001b[0m 'optimizer=auto' found, ignoring 'lr0=0.01' and 'momentum=0.937' and determining best 'optimizer', 'lr0' and 'momentum' automatically... \n",
            "\u001b[34m\u001b[1moptimizer:\u001b[0m AdamW(lr=0.001429, momentum=0.9) with parameter groups 57 weight(decay=0.0), 64 weight(decay=0.0005), 63 bias(decay=0.0)\n",
            "Image sizes 640 train, 640 val\n",
            "Using 2 dataloader workers\n",
            "Logging results to \u001b[1m/content/drive/MyDrive/data_cay/training_results/rice_disease2\u001b[0m\n",
            "Starting training for 20 epochs...\n",
            "\n",
            "      Epoch    GPU_mem   box_loss   cls_loss   dfl_loss  Instances       Size\n",
            "       1/20      2.16G      1.515      2.348      1.604         33        640: 100% 326/326 [04:58<00:00,  1.09it/s]\n",
            "                 Class     Images  Instances      Box(P          R      mAP50  mAP50-95): 100% 21/21 [00:46<00:00,  2.24s/it]\n",
            "                   all        326        355      0.261      0.391      0.221        0.1\n",
            "\n",
            "      Epoch    GPU_mem   box_loss   cls_loss   dfl_loss  Instances       Size\n",
            "       2/20      2.23G      1.614      2.243      1.669         24        640: 100% 326/326 [04:58<00:00,  1.09it/s]\n",
            "                 Class     Images  Instances      Box(P          R      mAP50  mAP50-95): 100% 21/21 [00:45<00:00,  2.16s/it]\n",
            "                   all        326        355      0.227      0.329      0.181      0.078\n",
            "\n",
            "      Epoch    GPU_mem   box_loss   cls_loss   dfl_loss  Instances       Size\n",
            "       3/20      2.23G      1.598      2.262      1.664         28        640: 100% 326/326 [05:01<00:00,  1.08it/s]\n",
            "                 Class     Images  Instances      Box(P          R      mAP50  mAP50-95): 100% 21/21 [00:51<00:00,  2.43s/it]\n",
            "                   all        326        355      0.232      0.357      0.187      0.088\n",
            "\n",
            "      Epoch    GPU_mem   box_loss   cls_loss   dfl_loss  Instances       Size\n",
            "       4/20      2.24G      1.554      2.199      1.631         31        640: 100% 326/326 [05:09<00:00,  1.05it/s]\n",
            "                 Class     Images  Instances      Box(P          R      mAP50  mAP50-95): 100% 21/21 [00:41<00:00,  1.96s/it]\n",
            "                   all        326        355      0.329      0.419        0.3      0.143\n",
            "\n",
            "      Epoch    GPU_mem   box_loss   cls_loss   dfl_loss  Instances       Size\n",
            "       5/20      2.23G       1.49      2.112      1.585         28        640: 100% 326/326 [05:14<00:00,  1.04it/s]\n",
            "                 Class     Images  Instances      Box(P          R      mAP50  mAP50-95): 100% 21/21 [00:42<00:00,  2.04s/it]\n",
            "                   all        326        355      0.349      0.467      0.315      0.159\n",
            "\n",
            "      Epoch    GPU_mem   box_loss   cls_loss   dfl_loss  Instances       Size\n",
            "       6/20      2.24G      1.454      1.984       1.56         23        640: 100% 326/326 [05:13<00:00,  1.04it/s]\n",
            "                 Class     Images  Instances      Box(P          R      mAP50  mAP50-95): 100% 21/21 [00:46<00:00,  2.23s/it]\n",
            "                   all        326        355      0.398      0.495      0.338      0.165\n",
            "\n",
            "      Epoch    GPU_mem   box_loss   cls_loss   dfl_loss  Instances       Size\n",
            "       7/20      2.23G      1.388      1.934       1.52         21        640: 100% 326/326 [05:01<00:00,  1.08it/s]\n",
            "                 Class     Images  Instances      Box(P          R      mAP50  mAP50-95): 100% 21/21 [00:48<00:00,  2.29s/it]\n",
            "                   all        326        355      0.441      0.539      0.412      0.214\n",
            "\n",
            "      Epoch    GPU_mem   box_loss   cls_loss   dfl_loss  Instances       Size\n",
            "       8/20      2.22G      1.359      1.863      1.493         31        640: 100% 326/326 [05:05<00:00,  1.07it/s]\n",
            "                 Class     Images  Instances      Box(P          R      mAP50  mAP50-95): 100% 21/21 [00:47<00:00,  2.26s/it]\n",
            "                   all        326        355      0.461      0.536      0.425      0.231\n",
            "\n",
            "      Epoch    GPU_mem   box_loss   cls_loss   dfl_loss  Instances       Size\n",
            "       9/20      2.23G      1.303      1.773      1.455         29        640: 100% 326/326 [04:59<00:00,  1.09it/s]\n",
            "                 Class     Images  Instances      Box(P          R      mAP50  mAP50-95): 100% 21/21 [00:47<00:00,  2.27s/it]\n",
            "                   all        326        355      0.563      0.591      0.546      0.319\n",
            "\n",
            "      Epoch    GPU_mem   box_loss   cls_loss   dfl_loss  Instances       Size\n",
            "      10/20      2.23G      1.287      1.732      1.445         26        640: 100% 326/326 [05:01<00:00,  1.08it/s]\n",
            "                 Class     Images  Instances      Box(P          R      mAP50  mAP50-95): 100% 21/21 [00:53<00:00,  2.55s/it]\n",
            "                   all        326        355      0.528      0.585      0.511      0.289\n",
            "Closing dataloader mosaic\n",
            "\u001b[34m\u001b[1malbumentations: \u001b[0mBlur(p=0.01, blur_limit=(3, 7)), MedianBlur(p=0.01, blur_limit=(3, 7)), ToGray(p=0.01), CLAHE(p=0.01, clip_limit=(1, 4.0), tile_grid_size=(8, 8))\n",
            "\n",
            "      Epoch    GPU_mem   box_loss   cls_loss   dfl_loss  Instances       Size\n",
            "      11/20      2.23G       1.28      1.601      1.534         11        640: 100% 326/326 [05:07<00:00,  1.06it/s]\n",
            "                 Class     Images  Instances      Box(P          R      mAP50  mAP50-95): 100% 21/21 [00:47<00:00,  2.24s/it]\n",
            "                   all        326        355      0.517      0.596      0.513       0.31\n",
            "\n",
            "      Epoch    GPU_mem   box_loss   cls_loss   dfl_loss  Instances       Size\n",
            "      12/20      2.23G      1.256       1.49      1.528          9        640: 100% 326/326 [05:10<00:00,  1.05it/s]\n",
            "                 Class     Images  Instances      Box(P          R      mAP50  mAP50-95): 100% 21/21 [00:52<00:00,  2.48s/it]\n",
            "                   all        326        355      0.561      0.573      0.483      0.283\n",
            "\n",
            "      Epoch    GPU_mem   box_loss   cls_loss   dfl_loss  Instances       Size\n",
            "      13/20      2.23G      1.196      1.446      1.478         11        640: 100% 326/326 [05:15<00:00,  1.03it/s]\n",
            "                 Class     Images  Instances      Box(P          R      mAP50  mAP50-95): 100% 21/21 [00:44<00:00,  2.12s/it]\n",
            "                   all        326        355      0.582      0.619      0.552      0.324\n",
            "\n",
            "      Epoch    GPU_mem   box_loss   cls_loss   dfl_loss  Instances       Size\n",
            "      14/20      2.23G      1.159      1.409      1.447         10        640: 100% 326/326 [05:18<00:00,  1.02it/s]\n",
            "                 Class     Images  Instances      Box(P          R      mAP50  mAP50-95): 100% 21/21 [00:49<00:00,  2.34s/it]\n",
            "                   all        326        355      0.656      0.645      0.602      0.366\n",
            "\n",
            "      Epoch    GPU_mem   box_loss   cls_loss   dfl_loss  Instances       Size\n",
            "      15/20      2.23G      1.115      1.319      1.413         10        640: 100% 326/326 [05:11<00:00,  1.05it/s]\n",
            "                 Class     Images  Instances      Box(P          R      mAP50  mAP50-95): 100% 21/21 [00:54<00:00,  2.59s/it]\n",
            "                   all        326        355      0.608      0.594       0.57      0.366\n",
            "\n",
            "      Epoch    GPU_mem   box_loss   cls_loss   dfl_loss  Instances       Size\n",
            "      16/20      2.23G      1.107      1.299      1.412         12        640: 100% 326/326 [05:18<00:00,  1.02it/s]\n",
            "                 Class     Images  Instances      Box(P          R      mAP50  mAP50-95): 100% 21/21 [00:49<00:00,  2.38s/it]\n",
            "                   all        326        355      0.672      0.609      0.612      0.376\n",
            "\n",
            "      Epoch    GPU_mem   box_loss   cls_loss   dfl_loss  Instances       Size\n",
            "      17/20      2.23G      1.077      1.234      1.385         14        640: 100% 326/326 [05:02<00:00,  1.08it/s]\n",
            "                 Class     Images  Instances      Box(P          R      mAP50  mAP50-95): 100% 21/21 [00:47<00:00,  2.27s/it]\n",
            "                   all        326        355      0.655      0.657      0.608      0.414\n",
            "\n",
            "      Epoch    GPU_mem   box_loss   cls_loss   dfl_loss  Instances       Size\n",
            "      18/20      2.22G      1.036      1.194      1.363         10        640: 100% 326/326 [05:10<00:00,  1.05it/s]\n",
            "                 Class     Images  Instances      Box(P          R      mAP50  mAP50-95): 100% 21/21 [00:43<00:00,  2.09s/it]\n",
            "                   all        326        355      0.701      0.641      0.659       0.43\n",
            "\n",
            "      Epoch    GPU_mem   box_loss   cls_loss   dfl_loss  Instances       Size\n",
            "      19/20      2.23G      1.003      1.134      1.339         15        640: 100% 326/326 [05:16<00:00,  1.03it/s]\n",
            "                 Class     Images  Instances      Box(P          R      mAP50  mAP50-95): 100% 21/21 [00:46<00:00,  2.24s/it]\n",
            "                   all        326        355      0.656      0.692      0.647      0.441\n",
            "\n",
            "      Epoch    GPU_mem   box_loss   cls_loss   dfl_loss  Instances       Size\n",
            "      20/20      2.22G     0.9815      1.089       1.32         10        640: 100% 326/326 [04:59<00:00,  1.09it/s]\n",
            "                 Class     Images  Instances      Box(P          R      mAP50  mAP50-95): 100% 21/21 [00:50<00:00,  2.39s/it]\n",
            "                   all        326        355      0.721      0.702      0.666       0.45\n",
            "\n",
            "20 epochs completed in 1.993 hours.\n",
            "Optimizer stripped from /content/drive/MyDrive/data_cay/training_results/rice_disease2/weights/last.pt, 22.5MB\n",
            "Optimizer stripped from /content/drive/MyDrive/data_cay/training_results/rice_disease2/weights/best.pt, 22.5MB\n",
            "\n",
            "Validating /content/drive/MyDrive/data_cay/training_results/rice_disease2/weights/best.pt...\n",
            "Ultralytics YOLOv8.0.202 🚀 Python-3.10.12 torch-2.1.0+cu118 CUDA:0 (Tesla T4, 15102MiB)\n",
            "Model summary (fused): 168 layers, 11126745 parameters, 0 gradients, 28.4 GFLOPs\n",
            "                 Class     Images  Instances      Box(P          R      mAP50  mAP50-95): 100% 21/21 [00:46<00:00,  2.20s/it]\n",
            "                   all        326        355      0.723      0.703      0.666      0.451\n",
            "                folder        326         88      0.575      0.761      0.525      0.315\n",
            "           blast_gogbs        326        114       0.76      0.693      0.742      0.518\n",
            "            brown_spot        326        153      0.835      0.654      0.732      0.519\n",
            "Speed: 0.2ms preprocess, 6.7ms inference, 0.0ms loss, 4.0ms postprocess per image\n",
            "Results saved to \u001b[1m/content/drive/MyDrive/data_cay/training_results/rice_disease2\u001b[0m\n",
            "💡 Learn more at https://docs.ultralytics.com/modes/train\n"
          ]
        }
      ]
    },
    {
      "cell_type": "code",
      "source": [
        "!yolo task=detect mode=predict model=/content/drive/MyDrive/data_cay/training_result/rice_disease2/weights/best.pt conf=0.35 source=/content/drive/MyDrive/data_cay/images/test"
      ],
      "metadata": {
        "colab": {
          "base_uri": "https://localhost:8080/"
        },
        "id": "02d1ed8ooKD1",
        "outputId": "4247263c-e9aa-40fb-cfa2-39640ae933d1"
      },
      "execution_count": null,
      "outputs": [
        {
          "output_type": "stream",
          "name": "stdout",
          "text": [
            "Ultralytics YOLOv8.0.202 🚀 Python-3.10.12 torch-2.1.0+cu118 CUDA:0 (Tesla T4, 15102MiB)\n",
            "Model summary (fused): 168 layers, 11126745 parameters, 0 gradients, 28.4 GFLOPs\n",
            "\n",
            "image 1/28 /content/drive/MyDrive/data_cay/images/test/blast_gogbs (10).jpg: 480x640 1 brown_spot, 61.7ms\n",
            "image 2/28 /content/drive/MyDrive/data_cay/images/test/blast_gogbs (15).jpg: 320x640 2 blast_gogbss, 68.3ms\n",
            "image 3/28 /content/drive/MyDrive/data_cay/images/test/blast_gogbs (18).jpg: 480x640 1 blast_gogbs, 13.8ms\n",
            "image 4/28 /content/drive/MyDrive/data_cay/images/test/blast_gogbs (3).jpg: 224x640 1 brown_spot, 62.0ms\n",
            "image 5/28 /content/drive/MyDrive/data_cay/images/test/blast_google (7).jpg: 448x640 1 blast_gogbs, 73.6ms\n",
            "image 6/28 /content/drive/MyDrive/data_cay/images/test/brown_spot (350).jpg: 640x640 1 brown_spot, 17.0ms\n",
            "image 7/28 /content/drive/MyDrive/data_cay/images/test/brown_spot_google (1).jpg: 480x640 1 brown_spot, 14.0ms\n",
            "image 8/28 /content/drive/MyDrive/data_cay/images/test/brown_spot_google (13).jpg: 640x416 1 blast_gogbs, 1 brown_spot, 61.7ms\n",
            "image 9/28 /content/drive/MyDrive/data_cay/images/test/brown_spot_google (2).jpg: 640x448 1 brown_spot, 61.2ms\n",
            "image 10/28 /content/drive/MyDrive/data_cay/images/test/brown_spot_google (22).jpg: 640x480 1 brown_spot, 62.3ms\n",
            "image 11/28 /content/drive/MyDrive/data_cay/images/test/brown_spot_google (4).jpg: 640x480 1 brown_spot, 12.2ms\n",
            "image 12/28 /content/drive/MyDrive/data_cay/images/test/google_folder (37).jpg: 480x640 1 folder, 13.8ms\n",
            "image 13/28 /content/drive/MyDrive/data_cay/images/test/google_folder (41).jpg: 480x640 1 folder, 13.2ms\n",
            "image 14/28 /content/drive/MyDrive/data_cay/images/test/google_folder (42).jpg: 480x640 1 folder, 13.1ms\n",
            "image 15/28 /content/drive/MyDrive/data_cay/images/test/google_folder (43).jpg: 480x640 1 folder, 13.1ms\n",
            "image 16/28 /content/drive/MyDrive/data_cay/images/test/google_folder (46).jpg: 512x640 1 folder, 62.5ms\n",
            "image 17/28 /content/drive/MyDrive/data_cay/images/test/mix11 (1).png: 640x384 1 folder, 64.5ms\n",
            "image 18/28 /content/drive/MyDrive/data_cay/images/test/mix11 (10).png: 640x384 2 folders, 11.0ms\n",
            "image 19/28 /content/drive/MyDrive/data_cay/images/test/mix11 (16).png: 640x384 1 folder, 11.0ms\n",
            "image 20/28 /content/drive/MyDrive/data_cay/images/test/mix11 (2).png: 640x384 1 folder, 11.1ms\n",
            "image 21/28 /content/drive/MyDrive/data_cay/images/test/mix11 (4).png: 640x384 2 folders, 14.4ms\n",
            "image 22/28 /content/drive/MyDrive/data_cay/images/test/mix20 (5).png: 640x384 1 folder, 10.9ms\n",
            "image 23/28 /content/drive/MyDrive/data_cay/images/test/mix7 (2).png: 640x384 1 folder, 10.9ms\n",
            "image 24/28 /content/drive/MyDrive/data_cay/images/test/mix7 (4).png: 640x384 1 folder, 11.0ms\n",
            "image 25/28 /content/drive/MyDrive/data_cay/images/test/rbf_46.jpg: 640x320 1 folder, 61.9ms\n",
            "image 26/28 /content/drive/MyDrive/data_cay/images/test/sbf_3.jpg: 640x320 1 folder, 10.6ms\n",
            "image 27/28 /content/drive/MyDrive/data_cay/images/test/sbf_5.jpg: 640x320 1 folder, 11.1ms\n",
            "image 28/28 /content/drive/MyDrive/data_cay/images/test/sbf_6.jpg: 640x320 1 folder, 10.6ms\n",
            "Speed: 2.4ms preprocess, 30.8ms inference, 11.1ms postprocess per image at shape (1, 3, 640, 320)\n",
            "Results saved to \u001b[1mruns/detect/predict\u001b[0m\n",
            "💡 Learn more at https://docs.ultralytics.com/modes/predict\n"
          ]
        }
      ]
    },
    {
      "cell_type": "code",
      "source": [
        "!cp -r /content/runs/detect/predict /content/runs/output"
      ],
      "metadata": {
        "id": "yN96uLYPoKGf"
      },
      "execution_count": null,
      "outputs": []
    },
    {
      "cell_type": "code",
      "source": [],
      "metadata": {
        "id": "6ch5TniGoKJC"
      },
      "execution_count": null,
      "outputs": []
    },
    {
      "cell_type": "code",
      "source": [],
      "metadata": {
        "id": "G4QiUxK6oKMj"
      },
      "execution_count": null,
      "outputs": []
    }
  ]
}